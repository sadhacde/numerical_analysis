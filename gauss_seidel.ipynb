{
 "cells": [
  {
   "cell_type": "markdown",
   "metadata": {},
   "source": [
    "## Gaussian Elimination and Gauss-Seiddel \n",
    "\n",
    "We will use the naieve Gauss method first to find solutions. The warm-up will have us find solutions to the following system, written in matrix form:\n",
    "$$\\begin{bmatrix} 3 & -2 & 2 \\\\ 2 & 3 & 14 \\\\ 3 & 3 & 5\\end{bmatrix} \\left[ \\begin{array}{c} x_1 \\\\ x_2 \\\\x_3 \\end{array} \\right] = \\left[ \\begin{array}{c} 3 \\\\ 1 \\\\ 8 \\end{array} \\right]$$\n"
   ]
  },
  {
   "cell_type": "code",
   "execution_count": 7,
   "metadata": {},
   "outputs": [
    {
     "name": "stdout",
     "output_type": "stream",
     "text": [
      "[[ 3. -2.  2.  3.]\n",
      " [ 2.  3. 14.  1.]\n",
      " [ 3.  3.  5.  8.]]\n",
      "[[  3.          -2.           2.           3.        ]\n",
      " [  0.           4.33333333  12.66666667  -1.        ]\n",
      " [  0.           0.         -11.61538462   6.15384615]]\n",
      "[ 2.23178808  1.31788079 -0.52980132]\n",
      "[3. 1. 8.]\n"
     ]
    }
   ],
   "source": [
    "#import numpy we don't need any plotting for this\n",
    "import numpy as np\n",
    "##declare some variables\n",
    "#define a matrix\n",
    "a = np.array([[3,-2,2,3],[2,3,14,1],[3,3,5,8]], dtype=float)\n",
    "#get rows and columns\n",
    "rows = np.shape(a)[0]\n",
    "cols = np.shape(a)[1]\n",
    "#solution vector to store solutions\n",
    "x = np.zeros(cols-1)\n",
    "#print matrix here\n",
    "print(a)\n",
    "#forward elimination algorithm here\n",
    "for i in range(cols - 1):\n",
    "    #do swaps here\n",
    "    for j in range(i+1, rows):\n",
    "        a[j,:] = (-a[j,i]/a[i,i])*a[i,:] + a[j,:]     \n",
    "#print matrix again in row echelon form\n",
    "print(a)\n",
    "#backsubstitution algorithm here\n",
    "for i in np.arange(rows-1, -1, -1):\n",
    "    x[i] = (a[i,-1] - a[i,0:cols-1] @x)/a[i,i]\n",
    "#print solution vector\n",
    "print(x)\n",
    "#check the solution\n",
    "B = np.array([[3,-2,2],[2,3,14],[3,3,5]], dtype=float)\n",
    "print(B @ x)"
   ]
  },
  {
   "cell_type": "code",
   "execution_count": 8,
   "metadata": {},
   "outputs": [
    {
     "name": "stdout",
     "output_type": "stream",
     "text": [
      "It. Num: 0 x: 1.75 y: 2.625 Max Rel. Error: 61.904761904761905 %\n",
      "It. Num: 1 x: 1.140625 y: 2.9296875 Max Rel. Error: 53.42465753424658 %\n",
      "It. Num: 2 x: 1.0263671875 y: 2.98681640625 Max Rel. Error: 11.132254995242626 %\n",
      "It. Num: 3 x: 1.00494384765625 y: 2.997528076171875 Max Rel. Error: 2.131794716064379 %\n",
      "It. Num: 4 x: 1.0009269714355469 y: 2.9995365142822266 Max Rel. Error: 0.401315613959533 %\n",
      "It. Num: 5 x: 1.000173807144165 y: 2.9999130964279175 Max Rel. Error: 0.07530334087955923 %\n",
      "It. Num: 6 x: 1.000032588839531 y: 2.9999837055802345 Max Rel. Error: 0.014121370264339923 %\n",
      "It. Num: 7 x: 1.000006110407412 y: 2.999996944796294 Max Rel. Error: 0.002647827032587341 %\n",
      "It. Num: 8 x: 1.0000011457013898 y: 2.999999427149305 Max Rel. Error: 0.0004964700334228303 %\n"
     ]
    }
   ],
   "source": [
    "x = 2\n",
    "y = 1\n",
    "\n",
    "xPrev = 2\n",
    "yPrev = 1\n",
    "\n",
    "m=5\n",
    "tol = 0.5 * 10 ** (2-m)\n",
    "maxIt = 50\n",
    "\n",
    "for i in range(maxIt):\n",
    "    x = (17 - 3*y)/8\n",
    "    e1 = (abs(xPrev - x)/abs(x)) * 100\n",
    "    y = (7 - x)/2\n",
    "    e2 = (abs(yPrev - y)/abs(y)) * 100\n",
    "    maxError = max(e1, e2)\n",
    "    print(\"It. Num:\",i,\"x:\",x,\"y:\",y,\"Max Rel. Error:\", maxError,\"%\")\n",
    "    if maxError < tol:\n",
    "        break\n",
    "    xPrev = x\n",
    "    yPrev = y"
   ]
  },
  {
   "cell_type": "markdown",
   "metadata": {},
   "source": [
    "1.  Modify your code to compute the determinant for the following matrix using elimination. You will need to ensure that it goes through all the rows and columns instead of leaving the last column, as it does in the example code.\n",
    "$$ \\begin{bmatrix}\n",
    "1 & 3 & 4 & 6 & 3 \\\\\n",
    "2 & 2 & 3 & 7 & 12 \\\\\n",
    "9 & 2 & 3 & 5 & 8 \\\\ \n",
    "11 & 4 & 9 & 1 & 2 \\\\\n",
    "2 & 4 & 2 & 1 & 6\n",
    "\\end{bmatrix}$$"
   ]
  },
  {
   "cell_type": "code",
   "execution_count": 60,
   "metadata": {},
   "outputs": [
    {
     "name": "stdout",
     "output_type": "stream",
     "text": [
      "[[ 1.  3.  4.  6.  3.]\n",
      " [ 2.  2.  3.  7. 12.]\n",
      " [ 9.  2.  3.  5.  8.]\n",
      " [11.  4.  9.  1.  2.]\n",
      " [ 2.  4.  2.  1.  6.]]\n",
      "updated matrix:\n",
      "[[   1.            3.            4.            6.            3.        ]\n",
      " [   0.           -4.           -5.           -5.            6.        ]\n",
      " [   0.            0.           -1.75        -17.75        -56.5       ]\n",
      " [   0.            0.            0.          -41.42857143 -114.85714286]\n",
      " [   0.            0.            0.            0.           35.14482759]]\n",
      "determinant: -10192.000000000002\n"
     ]
    }
   ],
   "source": [
    "import numpy as np\n",
    "\n",
    "a = np.array([[1,3,4,6,3],\n",
    "              [2,2,3,7,12],\n",
    "              [9,2,3,5,8],\n",
    "              [11,4,9,1,2],\n",
    "              [2,4,2,1,6]], dtype=float)\n",
    "\n",
    "rows = np.shape(a)[0]\n",
    "cols = np.shape(a)[1]\n",
    "\n",
    "print(a)\n",
    "\n",
    "for i in range(cols - 1):\n",
    "    for j in range(i+1, rows):\n",
    "        a[j,:] = (-a[j,i]/a[i,i])*a[i,:] + a[j,:]   \n",
    "        \n",
    "print(\"updated matrix:\")\n",
    "print(a)\n",
    "\n",
    "determinant = a[0][0] * a[1][1] * a[2][2] * a[3][3] * a[4][4]\n",
    "\n",
    "print(\"determinant:\", determinant)\n"
   ]
  },
  {
   "cell_type": "markdown",
   "metadata": {},
   "source": [
    "2.  Use the Gauss-Seidel method to solve the following system:\n",
    "$$\\begin{bmatrix} 12 & 3 & 5 \\\\ 3 & 8 & 1 \\\\ 1 & 4 & 10\\end{bmatrix} \\left[ \\begin{array}{c} x_1 \\\\ x_2 \\\\x_3 \\end{array} \\right] = \\left[ \\begin{array}{c} 2 \\\\ 2 \\\\ 3 \\end{array} \\right] $$ with initial guess $ x=\\left[1 1 1 \\right]^T$. Set your max relative error so that you guarantee at least 8 significant digits in all your final answers."
   ]
  },
  {
   "cell_type": "code",
   "execution_count": 3,
   "metadata": {},
   "outputs": [
    {
     "name": "stdout",
     "output_type": "stream",
     "text": [
      "It. Num: 0 x: -0.5 y: 0.3125 z: 0.225 Max Rel. Error: 344.44444444444446\n",
      "It. Num: 1 x: -0.005208333333333333 y: 0.223828125 z: 0.21098958333333334 Max Rel. Error: 9500.000000000002\n",
      "It. Num: 2 x: 0.022797309027777785 y: 0.21507731119791668 z: 0.21168934461805555 Max Rel. Error: 122.84626368396002\n",
      "It. Num: 3 x: 0.02469344527633101 y: 0.21427878994411892 z: 0.2118191394947193 Max Rel. Error: 7.678702697556333\n",
      "It. Num: 4 x: 0.02483899439117056 y: 0.21420798466647112 z: 0.21183290669429453 Max Rel. Error: 0.5859702391626902\n",
      "It. Num: 5 x: 0.02485095937742617 y: 0.21420177689667835 z: 0.21183419330358602 Max Rel. Error: 0.04814697925294898\n",
      "It. Num: 6 x: 0.024851975232669576 y: 0.21420123512480066 z: 0.2118343084268128 Max Rel. Error: 0.0040876237558452825\n",
      "It. Num: 7 x: 0.024852062707627832 y: 0.21420118793128795 z: 0.21183431855672208 Max Rel. Error: 0.000351982687655191\n",
      "It. Num: 8 x: 0.024852070285210488 y: 0.21420118382345582 z: 0.2118343194420966 Max Rel. Error: 3.049075013927061e-05\n",
      "It. Num: 9 x: 0.024852070943262472 y: 0.2142011834660145 z: 0.21183431951926798 Max Rel. Error: 2.6478758487918e-06\n",
      "It. Num: 10 x: 0.024852071000468063 y: 0.21420118343491598 z: 0.21183431952598678 Max Rel. Error: 2.3018440176514097e-07\n"
     ]
    }
   ],
   "source": [
    "##2\n",
    "x = 1\n",
    "y = 1\n",
    "z = 1\n",
    "\n",
    "xPrev = 1\n",
    "yPrev = 1\n",
    "zPrev = 1\n",
    "\n",
    "m=8\n",
    "tol = 0.5 * 10 ** (2-m)\n",
    "maxIt = 50\n",
    "\n",
    "for i in range(maxIt):\n",
    "    x = 1/12*(2-3*y-5*z)\n",
    "    e1 = (abs(xPrev - x)/abs(x)) * 100\n",
    "    y = 1/8*(2 - z - 3*x)\n",
    "    e2 = (abs(yPrev - y)/abs(y)) * 100\n",
    "    z = 1/10*(3 - 4*y - x)\n",
    "    e3 = (abs(zPrev - z)/abs(z)) * 100\n",
    "    maxError = max(e1, e2, e3)\n",
    "    print(\"It. Num:\",i,\"x:\",x,\"y:\",y,\"z:\",z,\"Max Rel. Error:\", maxError)\n",
    "    if maxError < tol:\n",
    "        break\n",
    "    xPrev = x\n",
    "    yPrev = y\n",
    "    zPrev = z"
   ]
  },
  {
   "cell_type": "markdown",
   "metadata": {},
   "source": [
    "3. Use the Gauss-Seidel Method with the system from number 2, but with the rows in a different order. Do not change order of your matrix.\n",
    "$$\\begin{bmatrix} 3 & 8 & 1 \\\\ 12 & 3 & 5 \\\\ 1 & 4 & 10\\end{bmatrix} \\left[ \\begin{array}{c} x_1 \\\\ x_2 \\\\x_3 \\end{array} \\right] = \\left[ \\begin{array}{c} 2 \\\\ 2 \\\\ 3 \\end{array} \\right] $$\n",
    "Use the same initial guess as in number 2. Track the maximum absolute relative error you are getting. What do you notice is happening? Explain why there is a difference between the two solutions."
   ]
  },
  {
   "cell_type": "code",
   "execution_count": 5,
   "metadata": {},
   "outputs": [
    {
     "name": "stdout",
     "output_type": "stream",
     "text": [
      "It. Num: 0 x: -0.25 y: -0.5 z: 0.525 Max Rel. Error: 500.0 %\n",
      "It. Num: 1 x: 0.278125 y: 0.07291666666666666 z: 0.24302083333333335 Max Rel. Error: 785.7142857142858 %\n",
      "It. Num: 2 x: 0.1153255208333333 y: 0.04717881944444442 z: 0.2695959201388889 Max Rel. Error: 141.16518008354979 %\n",
      "It. Num: 3 x: 0.1730534396701389 y: 0.04254032841435185 z: 0.2656785246672454 Max Rel. Error: 33.358434797275386 %\n",
      "It. Num: 4 x: 0.15189514454029224 y: 0.045332199285059785 z: 0.26667760583194683 Max Rel. Error: 13.929540140260462 %\n",
      "It. Num: 5 x: 0.15970462006839706 y: 0.0442179477487572 z: 0.2663423588936574 Max Rel. Error: 4.889949661293605 %\n",
      "It. Num: 6 x: 0.15681797261264394 y: 0.044636196857120114 z: 0.2664637239958876 Max Rel. Error: 1.8407631521186858 %\n",
      "It. Num: 7 x: 0.15788529477077257 y: 0.04448106578743347 z: 0.2664190442079494 Max Rel. Error: 0.6760111254681658 %\n",
      "It. Num: 8 x: 0.15749063393496662 y: 0.04453846513316273 z: 0.26643555055323825 Max Rel. Error: 0.2505932104946079 %\n",
      "It. Num: 9 x: 0.15763656845523272 y: 0.044517237652860045 z: 0.2664294480933327 Max Rel. Error: 0.09257656500403867 %\n",
      "It. Num: 10 x: 0.15758260581762115 y: 0.04452508721456303 z: 0.26643170453241266 Max Rel. Error: 0.034244031777224994 %\n",
      "It. Num: 11 x: 0.15760255975184048 y: 0.04452218464118729 z: 0.26643087016834105 Max Rel. Error: 0.012660920134006251 %\n",
      "It. Num: 12 x: 0.15759518132201716 y: 0.044523257936227745 z: 0.2664311786933072 Max Rel. Error: 0.004681887962197063 %\n",
      "It. Num: 13 x: 0.15759790966758017 y: 0.04452286106039841 z: 0.2664310646090826 Max Rel. Error: 0.001731206694782406 %\n",
      "It. Num: 14 x: 0.15759690079852212 y: 0.0445230078144493 z: 0.26643110679436804 Max Rel. Error: 0.0006401579300942686 %\n",
      "It. Num: 15 x: 0.15759727385125818 y: 0.04452295354873431 z: 0.26643109119538044 Max Rel. Error: 0.00023671268350464205 %\n",
      "It. Num: 16 x: 0.15759713590635563 y: 0.04452297361474124 z: 0.26643109696346795 Max Rel. Error: 8.753008216990689e-05 %\n",
      "It. Num: 17 x: 0.15759718691468314 y: 0.04452296619486971 z: 0.2664310948305838 Max Rel. Error: 3.236626776458724e-05 %\n",
      "It. Num: 18 x: 0.15759716805317087 y: 0.04452296893853933 z: 0.2664310956192672 Max Rel. Error: 1.196817969618908e-05 %\n",
      "It. Num: 19 x: 0.15759717502765253 y: 0.04452296792400382 z: 0.26643109532763326 Max Rel. Error: 4.425511851750269e-06 %\n",
      "It. Num: 20 x: 0.15759717244867616 y: 0.044522968299151866 z: 0.2664310954354716 Max Rel. Error: 1.6364356832840574e-06 %\n",
      "It. Num: 21 x: 0.1575971734023125 y: 0.0445229681604322 z: 0.2664310953955959 Max Rel. Error: 6.051100511367184e-07 %\n",
      "It. Num: 22 x: 0.15759717304968332 y: 0.04452296821172698 z: 0.2664310954103409 Max Rel. Error: 2.2375349064678473e-07 %\n"
     ]
    }
   ],
   "source": [
    "##3\n",
    "#the max abs rel. error decreases with a lower interval (takes longer to decrease), and it takes longer for the values to converge, but the ending\n",
    "#max rel. error is slghtly higher than the previous question. switching the order affects the solutions/error.\n",
    "#there is a difference since switching the rows will make the updated variable change since we switched the order of the \n",
    "#first two rows. the variable we plug into the 2nd row was previously the first row, and vice versa. \n",
    "#this not only affects the iteration num but also the final values (which it slightly made the 1st row solution converge closer, but the 3rd one is further away)\n",
    "\n",
    "x = 1\n",
    "y = 1\n",
    "z = 1\n",
    "\n",
    "xPrev = 1\n",
    "yPrev = 1\n",
    "zPrev = 1\n",
    "\n",
    "m=8\n",
    "tol = 0.5 * 10 ** (2-m)\n",
    "maxIt = 50\n",
    "\n",
    "for i in range(maxIt):\n",
    "    x = 1/8*(2 - z - 3*x)\n",
    "    e1 = (abs(xPrev - x)/abs(x)) * 100\n",
    "    y = 1/12*(2-3*y-5*z) \n",
    "    e2 = (abs(yPrev - y)/abs(y)) * 100\n",
    "    z = 1/10*(3 - 4*y - x)\n",
    "    e3 = (abs(zPrev - z)/abs(z)) * 100\n",
    "    maxError = max(e1, e2, e3)\n",
    "    print(\"It. Num:\",i,\"x:\",x,\"y:\",y,\"z:\",z,\"Max Rel. Error:\", maxError,\"%\")\n",
    "    if maxError < tol:\n",
    "        break\n",
    "    xPrev = x\n",
    "    yPrev = y\n",
    "    zPrev = z"
   ]
  }
 ],
 "metadata": {
  "kernelspec": {
   "display_name": "Python 3 (ipykernel)",
   "language": "python",
   "name": "python3"
  },
  "language_info": {
   "codemirror_mode": {
    "name": "ipython",
    "version": 3
   },
   "file_extension": ".py",
   "mimetype": "text/x-python",
   "name": "python",
   "nbconvert_exporter": "python",
   "pygments_lexer": "ipython3",
   "version": "3.11.4"
  }
 },
 "nbformat": 4,
 "nbformat_minor": 2
}
