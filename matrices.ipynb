{
 "cells": [
  {
   "cell_type": "markdown",
   "id": "0395e720",
   "metadata": {},
   "source": [
    "## Introduction to Matrices\n",
    "\n",
    "Here we will use some of the built-in functionality of Numpy to work with matrices."
   ]
  },
  {
   "cell_type": "code",
   "execution_count": 3,
   "id": "9c8ffd82",
   "metadata": {},
   "outputs": [
    {
     "name": "stdout",
     "output_type": "stream",
     "text": [
      "[[2 1 1]\n",
      " [3 5 1]]\n",
      "[[2 3]\n",
      " [1 5]\n",
      " [1 1]]\n",
      "[[ 6 12]\n",
      " [12 35]]\n",
      "[[13 17  5]\n",
      " [17 26  6]\n",
      " [ 5  6  2]]\n"
     ]
    }
   ],
   "source": [
    "import numpy as np\n",
    "A = np.array([[2,1,1],[3,5,1]])\n",
    "print(A)\n",
    "transposeA = np.transpose(A)\n",
    "print(transposeA)\n",
    "B = A @ transposeA\n",
    "C = transposeA @ A\n",
    "print(B)\n",
    "print(C)"
   ]
  },
  {
   "cell_type": "code",
   "execution_count": 5,
   "id": "44f88214",
   "metadata": {},
   "outputs": [
    {
     "name": "stdout",
     "output_type": "stream",
     "text": [
      "[[ 4  2  2]\n",
      " [ 6 10  2]]\n",
      "[[0 0 0]\n",
      " [0 0 0]]\n",
      "[[ 4  1  1]\n",
      " [ 9 25  1]]\n",
      "[[1. 1. 1.]\n",
      " [1. 1. 1.]]\n",
      "[[ 4  1  1]\n",
      " [ 9 25  1]]\n"
     ]
    }
   ],
   "source": [
    "print(A + A)\n",
    "print(A - A)\n",
    "print(A * A)\n",
    "print(A / A)\n",
    "print(A ** 2)"
   ]
  },
  {
   "cell_type": "code",
   "execution_count": 6,
   "id": "620f3412",
   "metadata": {},
   "outputs": [
    {
     "name": "stdout",
     "output_type": "stream",
     "text": [
      "[[1. 0. 0.]\n",
      " [0. 1. 0.]\n",
      " [0. 0. 1.]]\n",
      "[[2. 1. 1.]\n",
      " [3. 5. 1.]]\n"
     ]
    }
   ],
   "source": [
    "I = np.identity(3)\n",
    "print(I)\n",
    "print(A @ I)"
   ]
  },
  {
   "cell_type": "code",
   "execution_count": 8,
   "id": "c28c56bf",
   "metadata": {},
   "outputs": [
    {
     "name": "stdout",
     "output_type": "stream",
     "text": [
      "[[2 3]\n",
      " [1 1]]\n",
      "[[-1.  3.]\n",
      " [ 1. -2.]]\n",
      "[[1. 0.]\n",
      " [0. 1.]]\n",
      "-1.0\n"
     ]
    }
   ],
   "source": [
    "A = np.array([[2,3],[1,1]])\n",
    "print(A)\n",
    "print(np.linalg.inv(A))\n",
    "print(A @ np.linalg.inv(A))\n",
    "print(np.linalg.det(A))"
   ]
  },
  {
   "cell_type": "code",
   "execution_count": 10,
   "id": "de6c6da1",
   "metadata": {},
   "outputs": [
    {
     "name": "stdout",
     "output_type": "stream",
     "text": [
      "[[2 3 1]\n",
      " [3 4 5]\n",
      " [2 2 3]]\n",
      "row 0 is [2 3 1]\n",
      "column 0 is [2 3 2]\n",
      "row 1 is [3 4 5]\n",
      "column 1 is [3 4 2]\n",
      "row 2 is [2 2 3]\n",
      "column 2 is [1 5 3]\n",
      "a 0 0 is 2\n",
      "a 0 1 is 3\n",
      "a 0 2 is 1\n",
      "a 1 0 is 3\n",
      "a 1 1 is 4\n",
      "a 1 2 is 5\n",
      "a 2 0 is 2\n",
      "a 2 1 is 2\n",
      "a 2 2 is 3\n"
     ]
    }
   ],
   "source": [
    "A = np.array([[2,3,1],[3,4,5],[2,2,3]])\n",
    "print(A)\n",
    "for i in range(3):\n",
    "    print(\"row\",i,\"is\",A[i,:])\n",
    "    print(\"column\",i,\"is\",A[:,i])\n",
    " \n",
    "for i in range(3):\n",
    "    for j in range(3):\n",
    "        print(\"a\",i,j,\"is\",A[i,j])"
   ]
  },
  {
   "cell_type": "markdown",
   "id": "18f91cb2",
   "metadata": {},
   "source": [
    "1.  Food orders are taken at in the mathematics department and engineering department at a university. In the math department, they ordered 25 chicken sandwiches, 35 fries, and 25 drinks. In the engineering department, they ordered 21 chicken sandwiches, 20 fries, and 21 drinks. The departments have the choice of buying food from three different restaurants; each restaurant charges different amounts for the sandwich, fries and drinks. \n",
    "\n",
    "    Restaurant A charges \\\\$2.42 for a chicken sandwich, \\\\$0.93 for fries, and \\\\$0.95 for a burger. \n",
    "\n",
    "    Restaurant B charges \\\\$2.38 for a chicken sandwich, \\\\$0.90 for fries, and \\\\$1.03 for a drink. \n",
    "\n",
    "    Finally, Restaurant C charges \\\\$2.46 for a chicken sandwich, \\\\$0.89 for fries, and \\\\$1.13 for a drink.\n",
    "\n",
    "    Construct a food order matrix and a price matrix. Use these, help determine the possible costs at each restaurant for the departments. Which restaurant is the least expensive for each department?"
   ]
  },
  {
   "cell_type": "code",
   "execution_count": 69,
   "id": "29bf4d88",
   "metadata": {},
   "outputs": [
    {
     "name": "stdout",
     "output_type": "stream",
     "text": [
      "Math A: 116.80000000000001 \n",
      "Math B: 116.75 \n",
      "Math C: 120.9\n",
      "Math department should go for restaurant B\n",
      "\n",
      "Engineering A: 89.37 \n",
      "Engineering B: 89.60999999999999 \n",
      "Engineering C: 93.19\n",
      "Engineering department should go for restaurant A\n"
     ]
    }
   ],
   "source": [
    "import numpy as np\n",
    "\n",
    "food = np.array([[25,35,25],[21,20,21]])\n",
    "price = np.array([[2.42,0.93,0.95],[2.38,0.90,1.03],[2.46,0.89,1.13]])\n",
    "\n",
    "mathA = food[0,:] @ price[0,:]\n",
    "mathB = food[0,:] @ price[1,:]\n",
    "mathC = food[0,:] @ price[2,:]\n",
    "\n",
    "engA = food[1,:] @ price[0,:]\n",
    "engB = food[1,:] @ price[1,:]\n",
    "engC = food[1,:] @ price[2,:]\n",
    "\n",
    "\n",
    "print(\"Math A:\", mathA, \"\\nMath B:\", mathB, \"\\nMath C:\", mathC)\n",
    "print(\"Math department should go for restaurant B\") #least expensive\n",
    "\n",
    "print()\n",
    "\n",
    "print(\"Engineering A:\", engA, \"\\nEngineering B:\", engB, \"\\nEngineering C:\", engC)\n",
    "print(\"Engineering department should go for restaurant A\") #least expensive"
   ]
  },
  {
   "cell_type": "markdown",
   "id": "664b4400",
   "metadata": {},
   "source": [
    "2.  In statistics, there is a procedure called linear regression. This is where you find a line of best fit for some data points. The equation for the line is given by $ \\hat{y}=b_0+b_1 x$ where $\\hat{y}$ is called a predicted value, and $x$ is an explnatory (independent) variable. The values of $b_0$ and $b_1$ are the intercept and slope of the line respectively. One way to find the values $b_0$ and $b_1$ is to first start by considering the equation $XB=Y$ where $X$ is a matrix that looks like this:\n",
    "$$\\left[\\begin{matrix}1&x_1\\\\1&x_2\\\\...&...\\\\1&x_n\\\\\\end{matrix}\\right]$$\n",
    "and $Y$ is a vector of observed values. You get these values from the orderd pairs $(x_1,y_1), (x_2,y_2), ...,(x_n,y_n)$. You can solve for the vector(matrix) $B$ like this:\n",
    "$$B=(X^TX)^{-1}X^TY$$\n",
    "Given the points $(1,2), (3,5),(4,6),(7,8)$ find a line of best fit for these points. Display the value for each."
   ]
  },
  {
   "cell_type": "code",
   "execution_count": 29,
   "id": "4cc65317",
   "metadata": {},
   "outputs": [
    {
     "name": "stdout",
     "output_type": "stream",
     "text": [
      "Intercept (b0) = 1.6000000000000012\n",
      "Slope (b1) = 0.9733333333333326\n"
     ]
    },
    {
     "data": {
      "image/png": "[encoded data removed]",
      "text/plain": [
       "<Figure size 640x480 with 1 Axes>"
      ]
     },
     "metadata": {},
     "output_type": "display_data"
    }
   ],
   "source": [
    "import numpy as np\n",
    "import matplotlib.pyplot as plt\n",
    "\n",
    "X = np.array([[1,1],[1,3],[1,4],[1,7]])\n",
    "y = np.array([[2],[5],[6],[8]])\n",
    "\n",
    "transpose_X = np.transpose(X)\n",
    "X_transpose_X = transpose_X @ X\n",
    "B = np.linalg.inv(X_transpose_X) @ transpose_X @ y\n",
    "\n",
    "b0 = B[0][0]\n",
    "b1 = B[1][0]\n",
    "\n",
    "print(\"Intercept (b0) =\", b0)\n",
    "print(\"Slope (b1) =\", b1)\n",
    "\n",
    "def lineOfBestFit(x):\n",
    "    return b1 * x + b0\n",
    "\n",
    "x_values = X[:,1]\n",
    "plt.plot(x_values, lineOfBestFit(x_values),label=\"Line of Best Fit\")\n",
    "plt.legend()\n",
    "plt.show()\n",
    "\n",
    "\n"
   ]
  },
  {
   "cell_type": "markdown",
   "id": "59c6cf4e",
   "metadata": {},
   "source": [
    "3.  Find a way to decide whether a matrix is diagonally dominant or not. Write a short program that will intake a matrix and print out \"Diagonally Dominant\" if it is diagonally dominant or \"Not Diagonally Dominant\". Use the diagonally dominant matrix:\n",
    "$$\\left[\\begin{matrix}5&2&1\\\\2&-7&-3\\\\1&3&4\\\\\\end{matrix}\\right]$$\n",
    "and the non-diagonally dominant matrix:\n",
    "$$\\left[\\begin{matrix}1&2&1\\\\2&-7&-3\\\\1&3&4\\\\\\end{matrix}\\right]$$"
   ]
  },
  {
   "cell_type": "code",
   "execution_count": 87,
   "id": "893a378a",
   "metadata": {},
   "outputs": [
    {
     "name": "stdout",
     "output_type": "stream",
     "text": [
      "This matrix is diagonally dominant\n",
      "This matrix is non-diagonally dominant\n"
     ]
    }
   ],
   "source": [
    "import numpy as np\n",
    "\n",
    "def diagonally_dominant(matrix):\n",
    "    n = len(matrix)\n",
    "    is_dominant = True\n",
    "    for i in range(n):\n",
    "        diagonal = abs(matrix[i][i])\n",
    "        row_sum = 0\n",
    "        for j in range(n):\n",
    "            if j != i:\n",
    "                row_sum += abs(matrix[i][j])\n",
    "        \n",
    "        if diagonal < row_sum:\n",
    "            is_dominant = False\n",
    "            break\n",
    "    if is_dominant:\n",
    "        print(\"This matrix is diagonally dominant\")\n",
    "    else:\n",
    "        print(\"This matrix is non-diagonally dominant\")\n",
    "\n",
    "matrix1 = np.array([[5, 2, 1], [2, -7, -3], [1, 3, 4]])\n",
    "diagonally_dominant(matrix1)\n",
    "\n",
    "matrix2 = np.array([[1, 2, 1], [2, -7, -3], [1, 3, 4]])\n",
    "diagonally_dominant(matrix2)"
   ]
  }
 ],
 "metadata": {
  "kernelspec": {
   "display_name": "Python 3 (ipykernel)",
   "language": "python",
   "name": "python3"
  },
  "language_info": {
   "codemirror_mode": {
    "name": "ipython",
    "version": 3
   },
   "file_extension": ".py",
   "mimetype": "text/x-python",
   "name": "python",
   "nbconvert_exporter": "python",
   "pygments_lexer": "ipython3",
   "version": "3.11.4"
  }
 },
 "nbformat": 4,
 "nbformat_minor": 5
}
